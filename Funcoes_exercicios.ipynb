{
  "cells": [
    {
      "cell_type": "markdown",
      "metadata": {
        "id": "view-in-github",
        "colab_type": "text"
      },
      "source": [
        "<a href=\"https://colab.research.google.com/github/DAlzinpro/projif/blob/main/Funcoes_exercicios.ipynb\" target=\"_parent\"><img src=\"https://colab.research.google.com/assets/colab-badge.svg\" alt=\"Open In Colab\"/></a>"
      ]
    },
    {
      "cell_type": "markdown",
      "metadata": {
        "id": "JrqSggC5xzSH"
      },
      "source": [
        "# Exercícios"
      ]
    },
    {
      "cell_type": "markdown",
      "metadata": {
        "id": "QKQ8D91txzSK"
      },
      "source": [
        "**Exercício**"
      ]
    },
    {
      "cell_type": "markdown",
      "metadata": {
        "id": "1J0Xyw-PxzSK"
      },
      "source": [
        "Implemente as funções `maior` e `menor`, que recebem como entrada 5 números. Uma delas retorna o maior valor e outra o menor valor.\n",
        "\n",
        "> **Exemplo**\n",
        "> ```python\n",
        "maior(1,2,5,4,3) #retorna 5\n",
        "maior(91,22,-5,14,109) #retorna 109\n",
        "menor(1,2,5,4,3) #retorna 1\n",
        "menor(91,22,-5,14,109) #retorna -5\n",
        "```"
      ]
    },
    {
      "cell_type": "code",
      "execution_count": null,
      "metadata": {
        "id": "a2RNc8KjxzSL"
      },
      "outputs": [],
      "source": [
        "def maior(*numeros):\n",
        "    maior = numeros[0]\n",
        "    for num in numeros:\n",
        "        if num > maior:\n",
        "            maior = num\n",
        "    return maior\n",
        "\n",
        "def menor(*numeros):\n",
        "    menor = numeros[0]\n",
        "    for num in numeros:\n",
        "        if num < menor:\n",
        "            menor = num\n",
        "    return menor"
      ]
    },
    {
      "cell_type": "markdown",
      "metadata": {
        "id": "Quo2Ep5SxzSL"
      },
      "source": [
        "**Exercício**"
      ]
    },
    {
      "cell_type": "markdown",
      "metadata": {
        "id": "YA6FFEekxzSM"
      },
      "source": [
        "Implemente a função `minmax`, que retorna o maior e o menor número, considerando 5 valores de entrada.\n",
        "\n",
        "> **Exemplo**\n",
        "> ```python\n",
        "minmax(1,2,5,4,3) #retorna 1, 5\n",
        "minmax(91,22,-5,14,109) #retorna -5, 109\n",
        ">```"
      ]
    },
    {
      "cell_type": "code",
      "execution_count": null,
      "metadata": {
        "id": "ZDKfRiDYxzSM"
      },
      "outputs": [],
      "source": [
        "def maior(num1, num2, num3, num4, num5):\n",
        "    if num1 >= num2 and num1 >= num3 and num1 >= num4 and num1 >= num5:\n",
        "        return num1\n",
        "    elif num2 >= num1 and num2 >= num3 and num2 >= num4 and num2 >= num5:\n",
        "        return num2\n",
        "    elif num3 >= num1 and num3 >= num2 and num3 >= num4 and num3 >= num5:\n",
        "        return num3\n",
        "    elif num4 >= num1 and num4 >= num2 and num4 >= num3 and num4 >= num5:\n",
        "        return num4\n",
        "    else:\n",
        "        return num5\n",
        "\n",
        "\n",
        "def menor(num1, num2, num3, num4, num5):\n",
        "    if num1 <= num2 and num1 <= num3 and num1 <= num4 and num1 <= num5:\n",
        "        return num1\n",
        "    elif num2 <= num1 and num2 <= num3 and num2 <= num4 and num2 <= num5:\n",
        "        return num2\n",
        "    elif num3 <= num1 and num3 <= num2 and num3 <= num4 and num3 <= num5:\n",
        "        return num3\n",
        "    elif num4 <= num1 and num4 <= num2 and num4 <= num3 and num4 <= num5:\n",
        "        return num4\n",
        "    else:\n",
        "        return num5\n",
        "\n",
        "\n",
        "def minmax(num1, num2, num3, num4, num5):\n",
        "    menor_num = menor(num1, num2, num3, num4, num5)\n",
        "    maior_num = maior(num1, num2, num3, num4, num5)\n",
        "    return menor_num, maior_num\n",
        "\n",
        "\n",
        "print(minmax(1, 2, 5, 4, 3))  # retorna (1, 5)\n",
        "print(minmax(91, 22, -5, 14, 109))  # retorna (-5, 109)"
      ]
    },
    {
      "cell_type": "markdown",
      "metadata": {
        "id": "LNu4ywJzxzSM"
      },
      "source": [
        "**Exercício**"
      ]
    },
    {
      "cell_type": "markdown",
      "metadata": {
        "id": "KD-9XwQsxzSM"
      },
      "source": [
        "Faça uma função chamada `tabuada` que recebe um número `n`, e apresenta a tabuada desse número na tela, com seu múltiplos de 1 a 10.\n",
        "\n",
        "> **Exemplo**\n",
        "> - Entrada, com a chamada da função:\n",
        ">```python\n",
        "tabuada(5)\n",
        ">```\n",
        "> - Saída na tela:\n",
        ">```\n",
        "5x1 = 5\n",
        "5x2 = 10\n",
        "5x3 = 15\n",
        "5x4 = 20\n",
        "5x5 = 25\n",
        "5x6 = 30\n",
        "5x7 = 35\n",
        "5x8 = 40\n",
        "5x9 = 45\n",
        "5x10 = 50\n",
        ">```\n",
        "\n",
        "\n",
        "\n"
      ]
    },
    {
      "cell_type": "code",
      "source": [
        "def tabuada(n):\n",
        "    for i in range(1, 11):\n",
        "        print(f\"{n}x{i} = {n*i}\")"
      ],
      "metadata": {
        "id": "nweLUxU1ZdXa"
      },
      "execution_count": null,
      "outputs": []
    },
    {
      "cell_type": "markdown",
      "metadata": {
        "id": "k1KE2mffxzSN"
      },
      "source": [
        "**Exercício**"
      ]
    },
    {
      "cell_type": "markdown",
      "metadata": {
        "id": "Yssyu7kqxzSN"
      },
      "source": [
        "Implemente a função `fatorial`, que calcula e retorna o fatorial de um número. Considere que a entrada será sempre um número inteiro não negativo. Lembre também que por definição, $0!=0$.\n",
        "\n",
        "> **Exemplo**\n",
        "> ```python\n",
        "fatorial(5) #retorna 120\n",
        "fatorial(8) #retorna 40320\n",
        "fatorial(0) #retorna 1\n",
        "fatorial(1) #retorna 1\n",
        "> ```"
      ]
    },
    {
      "cell_type": "code",
      "execution_count": null,
      "metadata": {
        "id": "fD0VsAyCxzSN"
      },
      "outputs": [],
      "source": [
        "def fatorial(n):\n",
        "    if n == 0:\n",
        "        return 1\n",
        "    else:\n",
        "        resultado = 1\n",
        "        for i in range(1, n+1):\n",
        "            resultado *= i\n",
        "        return resultado"
      ]
    },
    {
      "cell_type": "markdown",
      "metadata": {
        "id": "7AqFhQFlxzSO"
      },
      "source": [
        "**Exercício**"
      ]
    },
    {
      "cell_type": "markdown",
      "metadata": {
        "id": "uNxPZ9lOxzSO"
      },
      "source": [
        "Implemente um procedimento chamado `divdiv` que recebe dois inteiros: o dividendo e o divisor. O procedimento deve mostrar na tela:\n",
        "- o resultado inteiro da divisão,\n",
        "- o resto da divisão inteira e\n",
        "- o resultado da divisão, com precisão de 3 casas decimais.  \n",
        "\n",
        "> **Dica**\n",
        "> \n",
        "> Utilize a função `round(val,n)`, que arredonda `val` para `n` casas decimais.\n",
        "\n",
        "> **Exemplo**\n",
        "> - Entrada\n",
        "> ```python\n",
        "divdiv(11,3)\n",
        "> ```\n",
        "> - Saída\n",
        "> ```\n",
        "resultado inteiro: 3\n",
        "resto: 2\n",
        "resultado: 3.667\n",
        "> ```"
      ]
    },
    {
      "cell_type": "code",
      "execution_count": null,
      "metadata": {
        "id": "owQ9rDdMxzSO"
      },
      "outputs": [],
      "source": [
        "def divdiv(dividendo, divisor):\n",
        "    resultado_inteiro = dividendo // divisor\n",
        "    resto = dividendo % divisor\n",
        "    resultado = dividendo / divisor\n",
        "    \n",
        "    print(f\"resultado inteiro: {resultado_inteiro}\")\n",
        "    print(f\"resto: {resto}\")\n",
        "    print(f\"resultado: {round(resultado, 3)}\")"
      ]
    },
    {
      "cell_type": "markdown",
      "metadata": {
        "id": "LoUmrHoixzSO"
      },
      "source": [
        "**Exercício**"
      ]
    },
    {
      "cell_type": "markdown",
      "metadata": {
        "id": "tCruj1F4xzSO"
      },
      "source": [
        "Implemente uma função chamada `par`, que retorna `True` caso o valor passado por parâmetro seja par, e `False` caso contrário.\n",
        "\n",
        "> **Exemplo**\n",
        "> ```python\n",
        "> par(3) #retorna False\n",
        "> par(0) #retorna True\n",
        "> par(9) #retorna False\n",
        "> par(200) #retorna True\n",
        "> ```"
      ]
    },
    {
      "cell_type": "code",
      "execution_count": null,
      "metadata": {
        "id": "HltG3StzxzSO"
      },
      "outputs": [],
      "source": [
        "def par(n):\n",
        "    if n % 2 == 0:\n",
        "        return True\n",
        "    else:\n",
        "        return False"
      ]
    },
    {
      "cell_type": "markdown",
      "metadata": {
        "id": "eZabaGeqxzSP"
      },
      "source": [
        "**Exercício**"
      ]
    },
    {
      "cell_type": "markdown",
      "metadata": {
        "id": "WlGRBn1GxzSP"
      },
      "source": [
        "Implemente uma função chamada `impar`, que retorna `True` caso o valor passado por parâmetro seja impar, e `False` caso o valor seja par.\n",
        "\n",
        "> **Exemplo**\n",
        "> ```python\n",
        "> impar(3) #retorna True\n",
        "> impar(0) #retorna False\n",
        "> impar(9) #retorna True\n",
        "> impar(200) #retorna False\n",
        "> ```"
      ]
    },
    {
      "cell_type": "code",
      "execution_count": null,
      "metadata": {
        "id": "ZuzQQ1esxzSP"
      },
      "outputs": [],
      "source": [
        "def impar(n):\n",
        "    return n % 2 != 0"
      ]
    },
    {
      "cell_type": "markdown",
      "metadata": {
        "id": "3wcr6MeoxzSP"
      },
      "source": [
        "**Exercício**"
      ]
    },
    {
      "cell_type": "markdown",
      "metadata": {
        "id": "YpgN08NkxzSP"
      },
      "source": [
        "Implemente uma função chamada primo, que retorna `True` caso o valor passado por parâmetro seja um númeor primo, e `False` caso contrário.\n",
        "\n",
        "> **Exemplo**\n",
        "> ```python\n",
        "> primo(3) #retorna True\n",
        "> primo(9) #retorna False\n",
        "> primo(200) #retorna False\n",
        "> primo(15) #retorna False\n",
        "> primo(37) #retorna True\n",
        "> primo(2521) #retorna True\n",
        "> ```"
      ]
    },
    {
      "cell_type": "code",
      "execution_count": null,
      "metadata": {
        "id": "HxsV-8f1xzSP"
      },
      "outputs": [],
      "source": [
        "def primo(num):\n",
        "    if num <= 1:\n",
        "        return False\n",
        "    for i in range(2, num):\n",
        "        if num % i == 0:\n",
        "            return False\n",
        "    return True"
      ]
    },
    {
      "cell_type": "markdown",
      "metadata": {
        "id": "2VDTqF0wxzSP"
      },
      "source": [
        "**Exercício**"
      ]
    },
    {
      "cell_type": "markdown",
      "metadata": {
        "id": "z3b5J6CNxzSP"
      },
      "source": [
        "Desenvolva uma função que calcula o número de combinações $C$ de $n$ elementos tomados $p$ a $p$.\n",
        "$$C^n_p = \\frac{n!}{p!(n-p)!}$$\n",
        "\n",
        "> **Exemplo**\n",
        "> ```python\n",
        "combinacao(7,2) #retorna 21\n",
        "combinacao(4,3) #retorna 4\n",
        "> ```"
      ]
    },
    {
      "cell_type": "code",
      "execution_count": null,
      "metadata": {
        "id": "2ul-ZLZkxzSQ"
      },
      "outputs": [],
      "source": [
        "def combinacao(n, p):\n",
        "    # calcula o fatorial de n\n",
        "    fatorial_n = 1\n",
        "    for i in range(1, n+1):\n",
        "        fatorial_n *= i\n",
        "        \n",
        "    # calcula o fatorial de p\n",
        "    fatorial_p = 1\n",
        "    for i in range(1, p+1):\n",
        "        fatorial_p *= i\n",
        "        \n",
        "    # calcula o fatorial de n-p\n",
        "    fatorial_n_p = 1\n",
        "    for i in range(1, n-p+1):\n",
        "        fatorial_n_p *= i\n",
        "        \n",
        "    # calcula o resultado da combinação\n",
        "    resultado = fatorial_n / (fatorial_p * fatorial_n_p)\n",
        "    \n",
        "    # retorna o resultado\n",
        "    return resultado"
      ]
    },
    {
      "cell_type": "markdown",
      "metadata": {
        "id": "bam3DrhixzSQ"
      },
      "source": [
        "**Exercício**"
      ]
    },
    {
      "cell_type": "markdown",
      "metadata": {
        "id": "qscL0E5dxzSQ"
      },
      "source": [
        "Implemente uma função chamada perfeito, que retorna `True` caso o valor passado por\n",
        "parâmetro seja um número perfeito, e `False` caso contrário. Um número perfeito é aquele que é igual à soma de todos os seus divisores, exceto ele próprio.  \n",
        "\n",
        "> **Exemplo**\n",
        ">\n",
        "> $6$ é um número perfeito, pois $6=1+2+3$.\n",
        "> ```python\n",
        "perfeito(6) #retorna True\n",
        "> ```"
      ]
    },
    {
      "cell_type": "code",
      "execution_count": null,
      "metadata": {
        "id": "yycgvpC8xzSQ"
      },
      "outputs": [],
      "source": [
        "def perfeito(num):\n",
        "    soma = 0\n",
        "    for i in range(1, num):\n",
        "        if num % i == 0:\n",
        "            soma += i\n",
        "    return soma == num"
      ]
    },
    {
      "cell_type": "markdown",
      "metadata": {
        "id": "kWHJOKCZxzSQ"
      },
      "source": [
        "**Exercício**"
      ]
    },
    {
      "cell_type": "markdown",
      "metadata": {
        "id": "FCOjQ2aJxzSQ"
      },
      "source": [
        "Implemente uma função chamada `perfeitos` que recebe dois números inteiros `ini` e `fim` como parâmetro, e exibe na tela todos os números perfeitos que estão no intervalo entre `ini` e `fim`.\n",
        "\n",
        "> **Exemplo**\n",
        "> ```\n",
        "perfeitos(2,10) #Mostra 6 na tela\n",
        "> ```"
      ]
    },
    {
      "cell_type": "code",
      "execution_count": null,
      "metadata": {
        "id": "kl1pYdR-xzSQ"
      },
      "outputs": [],
      "source": [
        "def perfeitos(ini, fim):\n",
        "    for n in range(ini, fim+1):\n",
        "        soma_divisores = 0\n",
        "        for i in range(1, n):\n",
        "            if n % i == 0:\n",
        "                soma_divisores += i\n",
        "        if soma_divisores == n:\n",
        "            print(n)"
      ]
    },
    {
      "cell_type": "markdown",
      "metadata": {
        "id": "-ffwT8gXxzSQ"
      },
      "source": [
        "**Exercício**"
      ]
    },
    {
      "cell_type": "markdown",
      "metadata": {
        "id": "r3VOFwEXxzSQ"
      },
      "source": [
        "Implemente uma função chamada `circuloArea`, que recebe como entrada o raio de um círculo, e retorna a área desse círculo."
      ]
    },
    {
      "cell_type": "code",
      "execution_count": null,
      "metadata": {
        "id": "PXSobXwXxzSQ"
      },
      "outputs": [],
      "source": [
        "def circuloArea(raio):\n",
        "    return 3.14 * raio ** 2"
      ]
    },
    {
      "cell_type": "markdown",
      "metadata": {
        "id": "EFpJR09bxzSQ"
      },
      "source": [
        "**Exercício**"
      ]
    },
    {
      "cell_type": "markdown",
      "metadata": {
        "id": "GP1_mrjwxzSQ"
      },
      "source": [
        "Implemente uma função chamada `primos`, que retorna todos os números primos em um intervalo especificado."
      ]
    },
    {
      "cell_type": "code",
      "execution_count": null,
      "metadata": {
        "id": "-uTxE6t4xzSR"
      },
      "outputs": [],
      "source": [
        "def eh_primo(n):\n",
        "    if n < 2:\n",
        "        return False\n",
        "    for i in range(2, int(n**0.5) + 1):\n",
        "        if n % i == 0:\n",
        "            return False\n",
        "    return True\n",
        "\n",
        "def primos(inicio, fim):\n",
        "    lista_primos = []\n",
        "    for num in range(inicio, fim+1):\n",
        "        if eh_primo(num):\n",
        "            lista_primos.append(num)\n",
        "    return lista_primos"
      ]
    },
    {
      "cell_type": "markdown",
      "metadata": {
        "id": "9n47k7XnxzSR"
      },
      "source": [
        "**Exercício**"
      ]
    },
    {
      "cell_type": "markdown",
      "metadata": {
        "id": "3HOYNbz9xzSR"
      },
      "source": [
        "Implemente uma função chamada `conversor_temperatura`, que recebe três parâmetros como entrada: \n",
        "- um valor de temperatura (float), \n",
        "- a escala da temperatura de entrada (char) e \n",
        "- a escala da temperatura de saída (char).  \n",
        "Os possíveis valores para escala são C, F, K, R (maiúsculas ou minúsculas) que correspondem às escalas Celsius, Fahrenheit, Kelvin e Réaumur. A função deve retornar a temperatura informada na entrada para a temperatura na escala definida para saída.\n",
        "\n",
        "> **Exemplo**\n",
        "> ```python\n",
        "conversor_temperatura(100.0, 'C', 'K') #retorna 373.15, pois 100º Celsius equivale a 273.15 Kelvin.\n",
        "conversor_temperatura(22.0, 'R', 'c') #retorna 27.5, pois 22º Réaumur equivale a 27.5º Celsius.\n",
        "> ```"
      ]
    },
    {
      "cell_type": "code",
      "execution_count": null,
      "metadata": {
        "id": "eZKudJUixzSR"
      },
      "outputs": [],
      "source": [
        "def conversor_temperatura(temp, escala_origem, escala_destino):\n",
        "    \"\"\"Converte uma temperatura de uma escala para outra.\"\"\"\n",
        "    escala_origem = escala_origem.upper()\n",
        "    escala_destino = escala_destino.upper()\n",
        "    # Verifica se as escalas de entrada são válidas\n",
        "    escalas_validas = ['C', 'F', 'K', 'R']\n",
        "    if escala_origem not in escalas_validas or escala_destino not in escalas_validas:\n",
        "        return \"Escalas inválidas\"\n",
        "    # Converte para Celsius\n",
        "    if escala_origem == 'F':\n",
        "        temp = (temp - 32) * 5/9\n",
        "    elif escala_origem == 'K':\n",
        "        temp = temp - 273.15\n",
        "    elif escala_origem == 'R':\n",
        "        temp = (temp - 491.67) * 5/9\n",
        "    # Converte de Celsius para a escala de destino\n",
        "    if escala_destino == 'F':\n",
        "        temp = temp * 9/5 + 32\n",
        "    elif escala_destino == 'K':\n",
        "        temp = temp + 273.15\n",
        "    elif escala_destino == 'R':\n",
        "        temp = (temp + 273.15) * 9/5\n",
        "    # Arredonda para 2 casas decimais\n",
        "    return round(temp, 2)"
      ]
    },
    {
      "cell_type": "markdown",
      "metadata": {
        "id": "5HL9mHE1xzSR"
      },
      "source": [
        "**Exercício**"
      ]
    },
    {
      "cell_type": "markdown",
      "metadata": {
        "id": "iFjPOcBwxzSR"
      },
      "source": [
        "Faça uma função chamada `pot_2` que retorna `True` caso o parâmetro seja uma potência de 2.\n",
        "\n",
        "> **Exemplo**\n",
        "> ```python\n",
        "pot_2(10) #retorna False\n",
        "pot_2(64) #retorna True\n",
        "> ```"
      ]
    },
    {
      "cell_type": "code",
      "execution_count": null,
      "metadata": {
        "id": "lEsadZlmxzSR"
      },
      "outputs": [],
      "source": [
        "def pot_2(num):\n",
        "    while num % 2 == 0:\n",
        "        num //= 2\n",
        "    return num == 1"
      ]
    },
    {
      "cell_type": "markdown",
      "metadata": {
        "id": "cvnOCs7PxzSR"
      },
      "source": [
        "**Exercício**"
      ]
    },
    {
      "cell_type": "markdown",
      "metadata": {
        "id": "c_1sDhSVxzSR"
      },
      "source": [
        "Desenvolva uma função chamada `pot_n`, que possui dois parâmetros $x$ e $n$. A função deve retornar `True` caso $x$ seja uma potência de $n$. Caso $n$ seja omitido, deve ser verificado se $x$ é uma potência de 2.\n",
        "\n",
        "> **Exemplo**\n",
        "> ```python\n",
        "pot_n(25,5) #Retorna True pois 25 é potência de 5. 5^2 = 25.\n",
        "pot_n(25,2) #Retorna False pois 25 não é potência de 2.\n",
        "pot_n(1000) #Retorna False pois 1000 não é potência de 2.\n",
        "pot_n(1024) #Retorna True pois 1024 é potência de 2. 2^10=1024.\n",
        "pot_n(81,3) #Retorna True pois 27 é potência de 3. 3^4=27.\n",
        "> ```"
      ]
    },
    {
      "cell_type": "code",
      "execution_count": null,
      "metadata": {
        "id": "MuhmITJPxzSR"
      },
      "outputs": [],
      "source": [
        "def pot_n(x, n=2):\n",
        "    resultado = 1\n",
        "    while resultado <= x:\n",
        "        if resultado == x:\n",
        "            return True\n",
        "        resultado *= n\n",
        "    return False"
      ]
    },
    {
      "cell_type": "markdown",
      "metadata": {
        "id": "_Wg8UusnxzSR"
      },
      "source": [
        "**Exercício**"
      ]
    },
    {
      "cell_type": "markdown",
      "metadata": {
        "id": "au6GE2iFxzSR"
      },
      "source": [
        "Implemente uma função chamada `distancia_pontos` que recebe dois pares de números, que correspondem a pontos em um plano cartesiano com coordenadas $x,y$. A função deve retornar a distância entre esses dois pontos. Não é necessário arredondar valores.\n",
        "\n",
        "> **Exemplo**\n",
        "> ```python\n",
        "distancia_pontos(0,0,0,1) # retorna 1.0, pois a distância do ponto (0,0) a (0,1) é 1.\n",
        "distancia_pontos(5,3,7,0) # retorna 3.605551275463989, pois esta é a distância do ponto (5,3) ao ponto (7,0).\n",
        "distancia_pontos(3,0,6,4) # retorna 5.0, pois a distância do ponto (3,0) a (6,4) é 5.\n",
        "> ```"
      ]
    },
    {
      "cell_type": "code",
      "execution_count": null,
      "metadata": {
        "id": "MD2_bHlzxzSR"
      },
      "outputs": [],
      "source": [
        "def distancia_pontos(x1, y1, x2, y2):\n",
        "    distancia = ((x2-x1)**2 + (y2-y1)**2)**0.5\n",
        "    return distancia"
      ]
    },
    {
      "cell_type": "markdown",
      "metadata": {
        "id": "3CUA7jSRxzSS"
      },
      "source": [
        "**Exercício**"
      ]
    },
    {
      "cell_type": "markdown",
      "metadata": {
        "id": "9_tJM6WWxzSS"
      },
      "source": [
        "Implemente uma função chamada `triangulo_perimetro`, que recebe três pares de números, que correspondem a coordenadas em um plano cartesiano. Tais coordenadas correspondem aos vértices de um triângulo. Calcule e retorno o perímetro do triângulo formado pelos pontos. Os parâmetros devem ser identificados como `x0`, `y0`, `x1`, `y1`, `x2` e `y2`.\n",
        "\n",
        "> **Exemplo**\n",
        "> ```python\n",
        "triangulo_perimetro(0,0,1,1,1,0) # retorna 3.414213562373095, pois é o perímetro do triângulo formado pelos pontos (0,0), (1,1) e (1,0)\n",
        "triangulo_perimetro(0,0,3,4,3,0) # retorna 12.0, pois é o perímetro do triângulo formado pelos pontos (0,0), (3,4) e (3,0)\n",
        "> ```"
      ]
    },
    {
      "cell_type": "code",
      "execution_count": null,
      "metadata": {
        "id": "GkFcTOTexzSS"
      },
      "outputs": [],
      "source": [
        "def triangulo_perimetro(x0, y0, x1, y1, x2, y2):\n",
        "    lado_ab = ((x1 - x0) ** 2 + (y1 - y0) ** 2) ** 0.5\n",
        "    lado_ac = ((x2 - x0) ** 2 + (y2 - y0) ** 2) ** 0.5\n",
        "    lado_bc = ((x2 - x1) ** 2 + (y2 - y1) ** 2) ** 0.5\n",
        "    perimetro = lado_ab + lado_ac + lado_bc\n",
        "    return perimetro"
      ]
    },
    {
      "cell_type": "markdown",
      "metadata": {
        "id": "4DZ30ss3xzSS"
      },
      "source": [
        "**Exercício**"
      ]
    },
    {
      "cell_type": "markdown",
      "metadata": {
        "id": "5PjdEs9MxzSS"
      },
      "source": [
        "Faça um procedimento que recebe a idade de um nadador. Deve ser mostrado na tela a categoria em que o nadador deve competir, de acordo com a tabela apresentada.\n",
        "\n",
        "|Idade (anos)|Categoria|\n",
        "|------------|---------|\n",
        "|5 a 7| Infantil A|\n",
        "|8 a 10|Infantil B|\n",
        "|11 a 13| Juvenil A|\n",
        "|14 a 17| Juvenil B|\n",
        "|18 e acima de 18| Adulto|\n",
        "\n",
        "Fonte: Adaptado de [PINHO](https://www.inf.pucrs.br/~pinho/LaproI/Exercicios/Funcoes/lista.htm).  "
      ]
    },
    {
      "cell_type": "code",
      "execution_count": null,
      "metadata": {
        "id": "VeBDBF9XxzSS"
      },
      "outputs": [],
      "source": [
        "def categoria_nadador(idade):\n",
        "    if idade >= 5 and idade <= 7:\n",
        "        print(\"Categoria: Infantil A\")\n",
        "    elif idade >= 8 and idade <= 10:\n",
        "        print(\"Categoria: Infantil B\")\n",
        "    elif idade >= 11 and idade <= 13:\n",
        "        print(\"Categoria: Juvenil A\")\n",
        "    elif idade >= 14 and idade <= 17:\n",
        "        print(\"Categoria: Juvenil B\")\n",
        "    elif idade >= 18:\n",
        "        print(\"Categoria: Adulto\")\n",
        "    else:\n",
        "        print(\"Idade inválida.\")"
      ]
    },
    {
      "cell_type": "markdown",
      "metadata": {
        "id": "w88neg6JxzSS"
      },
      "source": [
        "**Exercício**"
      ]
    },
    {
      "cell_type": "markdown",
      "metadata": {
        "id": "LrNrh8_nxzSS"
      },
      "source": [
        "Escreva uma função chamada `soma_s` que tem como entrada um valor $n$, tal que $n$ pertence aos inteiros positivos. A função deve retornar o valor da soma S, onde:\n",
        "$$S = \\frac{1}{1}+\\frac{1}{2}+\\frac{1}{3}+...+\\frac{1}{n-1}+\\frac{1}{n}$$\n",
        "\n"
      ]
    },
    {
      "cell_type": "code",
      "execution_count": null,
      "metadata": {
        "id": "Z5P18zLHxzST"
      },
      "outputs": [],
      "source": [
        "def soma_s(n):\n",
        "    s = 0\n",
        "    for i in range(11, n+1):\n",
        "        s += i\n",
        "    return s"
      ]
    },
    {
      "cell_type": "markdown",
      "metadata": {
        "id": "eOVRdO2axzST"
      },
      "source": [
        "**Exercício**"
      ]
    },
    {
      "cell_type": "markdown",
      "metadata": {
        "id": "hV0IK7DTxzST"
      },
      "source": [
        "Desenvolva um procedimento que \"desenha\" na tela um retângulo, com valores especificados pelo usuário. Devem ser passados os valores das dimensões (largura e altura), e os caracteres que compõem a borda e o preenchimento. Largura e altura devem ser sempre maiores que 2.\n",
        "\n",
        ">**Exemplo**\n",
        ">\n",
        ">- Entrada:\n",
        "    - Largura=20\n",
        "    - Altura=5\n",
        "    - Borda=`X`\n",
        "    - Preenchimento=`_`\n",
        ">- Saída:\n",
        "> ```python\n",
        "XXXXXXXXXXXXXXXXXXXX\n",
        "X__________________X\n",
        "X__________________X\n",
        "X__________________X\n",
        "XXXXXXXXXXXXXXXXXXXX\n",
        "> ```\n",
        "\n",
        "\n",
        "Fonte: Adaptado de [OLIVEIRA](http://professor.pucgoias.edu.br/SiteDocente/admin/arquivosUpload/17504/material/cmp1048-lista_exercicios-01.pdf).  "
      ]
    },
    {
      "cell_type": "code",
      "execution_count": null,
      "metadata": {
        "id": "9Y27aE1TxzSU"
      },
      "outputs": [],
      "source": [
        "def desenha_retangulo(largura, altura, borda, preenchimento):\n",
        "    # Verifica se largura e altura são maiores que 2\n",
        "    if largura <= 2 or altura <= 2:\n",
        "        print(\"Erro: largura e altura devem ser maiores que 2\")\n",
        "        return\n",
        "    \n",
        "    # Desenha a primeira linha com a borda\n",
        "    linha_borda = borda * largura\n",
        "    print(linha_borda)\n",
        "    \n",
        "    # Desenha as linhas internas com borda e preenchimento\n",
        "    linha_preenchimento = preenchimento * (largura - 2)\n",
        "    for i in range(altura - 2):\n",
        "        linha = borda + linha_preenchimento + borda\n",
        "        print(linha)\n",
        "    \n",
        "    # Desenha a última linha com a borda\n",
        "    print(linha_borda)"
      ]
    },
    {
      "cell_type": "markdown",
      "metadata": {
        "id": "dTtG-gCVxzSU"
      },
      "source": [
        "**Exercício**"
      ]
    },
    {
      "cell_type": "markdown",
      "metadata": {
        "id": "6X76u7YVxzSU"
      },
      "source": [
        "Implemente uma função para verificar se determinado valor é ou não regular. Um número é dito regular se sua decomposição em fatores primos apresenta apenas potências de 2, 3 e 5.\n",
        "\n",
        "Fonte: Adaptado de [OLIVEIRA](http://professor.pucgoias.edu.br/SiteDocente/admin/arquivosUpload/17504/material/cmp1048-lista_exercicios-01.pdf).  "
      ]
    },
    {
      "cell_type": "code",
      "execution_count": null,
      "metadata": {
        "id": "EL29IYYQxzSU"
      },
      "outputs": [],
      "source": [
        "def eh_regular(num):\n",
        "    for fator in [2, 3, 5]:\n",
        "        while num % fator == 0:\n",
        "            num //= fator\n",
        "    return num == 1"
      ]
    },
    {
      "cell_type": "markdown",
      "metadata": {
        "id": "Z0Qaai55xzSU"
      },
      "source": [
        "**Exercício**"
      ]
    },
    {
      "cell_type": "markdown",
      "metadata": {
        "id": "AAPiGD9SxzSU"
      },
      "source": [
        "Implemente uma função chamada `raiz_n`, que retorna a enésima raiz $r$ de um número, tendo como parâmetros o número $n$ e a raiz $x$. Caso o valor de $x$ não seja informado, a função deve retornar a raíz quadrada do número.   \n",
        "\n",
        "$$r = \\sqrt[n]{x}$$\n",
        "\n",
        ">**Dica**\n",
        ">\n",
        ">$$\\sqrt[n]{x} = x^\\frac{1}{n}$$\n",
        "\n",
        "> **Exemplo**\n",
        "> ```python\n",
        "raiz_n(27,3) #retorna 3.0\n",
        "raiz_n(15,4) #retorna 1.9679896712654303\n",
        "raiz_n(16,4) #retorna 2.0\n",
        "raiz_n(16) #retorna 4.0\n",
        "> ```"
      ]
    },
    {
      "cell_type": "code",
      "source": [
        "def raiz_n(n, x=2):\n",
        "    r = x**(1/n)\n",
        "    return r"
      ],
      "metadata": {
        "id": "ssfLshHAagIz"
      },
      "execution_count": null,
      "outputs": []
    },
    {
      "cell_type": "markdown",
      "source": [
        "\n",
        "O programa usa duas funções: is_prime e find_twin_primes. A primeira função verifica se um número é primo e a segunda função encontra todos os pares de números primos gêmeos entre um intervalo de números.\n",
        "Na função is_prime, o número é verificado para divisibilidade por todos os números de 2 a raiz quadrada do número. Se o número é divisível por algum desses números, então ele não é primo e a função retorna False. Caso contrário, o número é primo e a função retorna True.\n",
        "Na função find_twin_primes, a lista twin_primes é inicializada como uma lista vazia. Em seguida, para cada número no intervalo de start a end-1, a função verifica se o número e o número seguinte (ou seja, o número +2) são primos. Se ambos os números são primos, eles são adicionados à lista twin_primes. No final, a lista twin_primes é retornada.\n",
        "No programa principal, o usuário é solicitado a inserir o número inicial e final do intervalo. A função find_twin_primes é chamada com esses argumentos e o resultado é armazenado na variável twin_primes. Em seguida, o programa imprime todos os pares de números primos gêmeos na lista twin_primes."
      ],
      "metadata": {
        "id": "57rJn5U-apov"
      }
    },
    {
      "cell_type": "code",
      "source": [
        "def is_prime(n):\n",
        "    \"\"\"Função que verifica se um número é primo.\"\"\"\n",
        "    if n < 2:\n",
        "        return False\n",
        "    for i in range(2, int(n**0.5)+1):\n",
        "        if n % i == 0:\n",
        "            return False\n",
        "    return True\n",
        "\n",
        "\n",
        "def find_twin_primes(start, end):\n",
        "    \"\"\"Função que encontra todos os pares de números primos gêmeos entre start e end.\"\"\"\n",
        "    twin_primes = []\n",
        "    for n in range(start, end-1):\n",
        "        if is_prime(n) and is_prime(n+2):\n",
        "            twin_primes.append((n, n+2))\n",
        "    return twin_primes\n",
        "\n",
        "\n",
        "start = int(input(\"Digite o número inicial: \"))\n",
        "end = int(input(\"Digite o número final: \"))\n",
        "\n",
        "twin_primes = find_twin_primes(start, end)\n",
        "print(\"Pares de números primos gêmeos:\")\n",
        "for twin_prime in twin_primes:\n",
        "    print(twin_prime)"
      ],
      "metadata": {
        "id": "onjSQKbpa1_z"
      },
      "execution_count": null,
      "outputs": []
    },
    {
      "cell_type": "markdown",
      "metadata": {
        "id": "Fw6tLUBLxzSV"
      },
      "source": [
        "## Referências\n",
        "\n",
        "[MORAES, S., PINHO, M.S., TERRA, E. Exercícios sobre Funções e Procedimentos. Escola Politécnica da PUCRS.](https://www.inf.pucrs.br/~pinho/LaproI/Exercicios/Funcoes/lista.htm)  \n",
        "[OLIVEIRA, M.G. Lista de exercícios: Funções.](http://professor.pucgoias.edu.br/SiteDocente/admin/arquivosUpload/17504/material/cmp1048-lista_exercicios-01.pdf)  \n",
        "\n"
      ]
    }
  ],
  "metadata": {
    "kernelspec": {
      "display_name": "Python 3 (ipykernel)",
      "language": "python",
      "name": "python3"
    },
    "language_info": {
      "codemirror_mode": {
        "name": "ipython",
        "version": 3
      },
      "file_extension": ".py",
      "mimetype": "text/x-python",
      "name": "python",
      "nbconvert_exporter": "python",
      "pygments_lexer": "ipython3",
      "version": "3.9.15"
    },
    "colab": {
      "provenance": [],
      "include_colab_link": true
    }
  },
  "nbformat": 4,
  "nbformat_minor": 0
}